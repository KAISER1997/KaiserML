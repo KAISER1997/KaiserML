{
 "cells": [
  {
   "cell_type": "code",
   "execution_count": 1,
   "metadata": {},
   "outputs": [
    {
     "name": "stderr",
     "output_type": "stream",
     "text": [
      "Using TensorFlow backend.\n",
      "/home/kaiser17/anaconda3/lib/python3.6/importlib/_bootstrap.py:219: RuntimeWarning: compiletime version 3.5 of module 'tensorflow.python.framework.fast_tensor_util' does not match runtime version 3.6\n",
      "  return f(*args, **kwds)\n"
     ]
    }
   ],
   "source": [
    "import keras"
   ]
  },
  {
   "cell_type": "code",
   "execution_count": 2,
   "metadata": {
    "collapsed": true
   },
   "outputs": [],
   "source": [
    "import numpy as np\n",
    "import tensorflow as tf\n",
    "import matplotlib.pyplot as plt\n",
    "%matplotlib inline\n",
    "reuse=tf.AUTO_REUSE"
   ]
  },
  {
   "cell_type": "code",
   "execution_count": 3,
   "metadata": {
    "collapsed": true
   },
   "outputs": [],
   "source": [
    "from keras.datasets import mnist\n"
   ]
  },
  {
   "cell_type": "code",
   "execution_count": 4,
   "metadata": {
    "collapsed": true
   },
   "outputs": [],
   "source": [
    "(x_train, y_train), (x_test, y_test) = mnist.load_data()"
   ]
  },
  {
   "cell_type": "code",
   "execution_count": 5,
   "metadata": {},
   "outputs": [
    {
     "name": "stdout",
     "output_type": "stream",
     "text": [
      "(60000, 28, 28)\n"
     ]
    }
   ],
   "source": [
    "print(x_train.shape)"
   ]
  },
  {
   "cell_type": "code",
   "execution_count": 6,
   "metadata": {
    "collapsed": true
   },
   "outputs": [],
   "source": [
    "x_train=x_train.reshape(60000,28*28)\n",
    "y_train=y_train.reshape(60000,)\n",
    "x_train2 = x_train/255.\n",
    "x_test2 = x_test/255."
   ]
  },
  {
   "cell_type": "code",
   "execution_count": 7,
   "metadata": {},
   "outputs": [
    {
     "name": "stdout",
     "output_type": "stream",
     "text": [
      "(784, 60000)\n",
      "(60000,)\n"
     ]
    }
   ],
   "source": [
    "x_train2=np.transpose(x_train2)\n",
    "\n",
    "print(x_train2.shape)\n",
    "print(y_train.shape)\n"
   ]
  },
  {
   "cell_type": "code",
   "execution_count": 8,
   "metadata": {
    "collapsed": true
   },
   "outputs": [],
   "source": [
    "y_trainV2=tf.one_hot(y_train,10)"
   ]
  },
  {
   "cell_type": "code",
   "execution_count": 9,
   "metadata": {
    "scrolled": true
   },
   "outputs": [
    {
     "data": {
      "text/plain": [
       "(10, 60000)"
      ]
     },
     "execution_count": 9,
     "metadata": {},
     "output_type": "execute_result"
    }
   ],
   "source": [
    "ss=tf.Session()\n",
    "y_trainV2=ss.run(y_trainV2)\n",
    "y_trainV2=np.transpose(np.array(y_trainV2))\n",
    "y_trainV2.shape"
   ]
  },
  {
   "cell_type": "code",
   "execution_count": 10,
   "metadata": {
    "collapsed": true
   },
   "outputs": [],
   "source": [
    "z=x_train2.reshape(60000,28,28)"
   ]
  },
  {
   "cell_type": "code",
   "execution_count": 11,
   "metadata": {
    "collapsed": true
   },
   "outputs": [],
   "source": [
    "def sigmoid(z):\n",
    "    x=tf.placeholder(tf.float32,name=\"x\")\n",
    "    ss=tf.sigmoid(x)\n",
    "    j=tf.Session()\n",
    "    l=j.run(ss,feed_dict={x:z})\n",
    "    return l"
   ]
  },
  {
   "cell_type": "code",
   "execution_count": 12,
   "metadata": {
    "collapsed": true
   },
   "outputs": [],
   "source": [
    "def computeCost(Z3,Y):\n",
    "    q=tf.transpose(Z3)\n",
    "    r=tf.transpose(Y)\n",
    "    cost = tf.reduce_mean(tf.nn.softmax_cross_entropy_with_logits(logits=q,labels=r))\n",
    "    return cost\n"
   ]
  },
  {
   "cell_type": "code",
   "execution_count": 13,
   "metadata": {
    "collapsed": true
   },
   "outputs": [],
   "source": [
    "def Initialize():    \n",
    "    tf.set_random_seed(1)                   \n",
    "    with tf.variable_scope(tf.get_variable_scope(),reuse=tf.AUTO_REUSE) as scope:\n",
    "        \n",
    "        W1 = tf.get_variable(\"W1\", [300,784], initializer = tf.contrib.layers.xavier_initializer(seed = 1))\n",
    "        b1 = tf.get_variable(\"b1\", [300,1], initializer = tf.zeros_initializer())\n",
    "        W2 = tf.get_variable(\"W2\", [100,300], initializer = tf.contrib.layers.xavier_initializer(seed = 1))\n",
    "        b2 = tf.get_variable(\"b2\", [100,1], initializer = tf.zeros_initializer())\n",
    "        W3 = tf.get_variable(\"W3\", [10,100], initializer = tf.contrib.layers.xavier_initializer(seed = 1))\n",
    "        b3 = tf.get_variable(\"b3\", [10,1], initializer = tf.zeros_initializer())\n",
    "    \n",
    "\n",
    "    parameters = {\"W1\": W1,\n",
    "                  \"b1\": b1,\n",
    "                  \"W2\": W2,\n",
    "                  \"b2\": b2,\n",
    "                  \"W3\": W3,\n",
    "                  \"b3\": b3}\n",
    "    \n",
    "    return parameters\n",
    "   "
   ]
  },
  {
   "cell_type": "code",
   "execution_count": 14,
   "metadata": {
    "collapsed": true
   },
   "outputs": [],
   "source": [
    "def forwardProp(X,dictw):\n",
    "    W1=dictw['W1']\n",
    "    W2=dictw['W2']\n",
    "    W3=dictw['W3']\n",
    "    b1=dictw['b1']\n",
    "    b2=dictw['b2']\n",
    "    b3=dictw['b3']\n",
    "    Z1 = tf.add(tf.matmul(W1,X),b1)                                              # Z1 = np.dot(W1, X) + b1\n",
    "    A1 = tf.nn.relu(Z1)                                           # A1 = relu(Z1)\n",
    "    Z2 =  tf.add(tf.matmul(W2,A1),b2)                                              # Z2 = np.dot(W2, a1) + b2\n",
    "    A2 = tf.nn.relu(Z2)                                          # A2 = relu(Z2)\n",
    "    Z3 = tf.add(tf.matmul(W3,A2),b3)\n",
    "    return(Z3)\n",
    "    "
   ]
  },
  {
   "cell_type": "code",
   "execution_count": 15,
   "metadata": {
    "collapsed": true
   },
   "outputs": [],
   "source": [
    "def create_placeholders(n_x, n_y):\n",
    "    X= tf.placeholder(tf.float32, [n_x, None], name=\"X\")\n",
    "    Y = tf.placeholder(tf.float32, [n_y, None], name=\"Y\")\n",
    "    return X, Y"
   ]
  },
  {
   "cell_type": "code",
   "execution_count": 28,
   "metadata": {
    "collapsed": true
   },
   "outputs": [],
   "source": [
    "def model(X_train, Y_train, X_test, Y_test, learning_rate = 0.001,num_epochs = 10, minibatch_size = 30):\n",
    "    dictw=Initialize()\n",
    "    (n_x,m)=X_train.shape\n",
    "   \n",
    "    n_y=Y_train.shape[0]\n",
    "    print(n_x)\n",
    "    X,Y=create_placeholders(n_x,n_y)\n",
    "    Z3=forwardProp(X,dictw)\n",
    "    cost=computeCost(Z3,Y)\n",
    "    optimizer = tf.train.GradientDescentOptimizer(learning_rate = learning_rate).minimize(cost)\n",
    "    init = tf.global_variables_initializer()\n",
    "    with tf.Session() as ss: \n",
    "        ss.run(init)\n",
    "        for i in range(num_epochs):\n",
    "            l=m//minibatch_size\n",
    "            #print(num_epochs)\n",
    "            r=0\n",
    "            epoch_cost=0\n",
    "            for g in range(l):\n",
    "                x1=X_train[:,r:r+minibatch_size]\n",
    "                y1=Y_train[:,r:r+minibatch_size]\n",
    "                r=r+minibatch_size\n",
    "                #print(x1.shape)\n",
    "                _ , minibatch_cost = ss.run([optimizer, cost], feed_dict={X:x1, Y:y1})\n",
    "                #epoch_cost += minibatch_cost / l\n",
    "            #print(epoch_cost)\n",
    "    # lets save the parameters in a variable\n",
    "    #parameters = ss.run(dictw)\n",
    "        print (\"Parameters have been trained!\")\n",
    "        \n",
    "        \n",
    "    \n",
    "        parameters = ss.run(dictw)\n",
    "        print (\"Parameters have been trained!\")\n",
    "\n",
    "        # Calculate the correct predictions\n",
    "        correct_prediction = tf.equal(tf.argmax(Z3), tf.argmax(Y))\n",
    "\n",
    "        \n",
    "        accuracy = tf.reduce_mean(tf.cast(correct_prediction, \"float\"))\n",
    "\n",
    "        print (\"Train Accuracy:\", accuracy.eval({X: X_train, Y: Y_train}))\n",
    "    return(parameters)\n",
    "    "
   ]
  },
  {
   "cell_type": "code",
   "execution_count": 29,
   "metadata": {},
   "outputs": [
    {
     "name": "stdout",
     "output_type": "stream",
     "text": [
      "784\n",
      "Parameters have been trained!\n",
      "Parameters have been trained!\n",
      "Train Accuracy: 0.914667\n"
     ]
    }
   ],
   "source": [
    "\n",
    "pm=model(X_train=x_train2,Y_train=y_trainV2,X_test=x_test2,Y_test=y_test)"
   ]
  },
  {
   "cell_type": "code",
   "execution_count": 35,
   "metadata": {},
   "outputs": [],
   "source": [
    "testzz=x_test2.reshape(10000,784)\n",
    "Xtestzz=np.transpose(testzz)\n",
    "y_TEst=tf.one_hot(y_test,10)\n",
    "ss=tf.Session()\n",
    "y_testzz=ss.run(y_TEst)\n",
    "y_testzz=np.transpose(np.array(y_testzz))\n",
    "ss.close()"
   ]
  },
  {
   "cell_type": "code",
   "execution_count": 36,
   "metadata": {},
   "outputs": [
    {
     "name": "stdout",
     "output_type": "stream",
     "text": [
      "(784, 10000)\n",
      "(10, 10000)\n"
     ]
    }
   ],
   "source": [
    "print(Xtestzz.shape)\n",
    "print(y_testzz.shape)"
   ]
  },
  {
   "cell_type": "code",
   "execution_count": 40,
   "metadata": {},
   "outputs": [],
   "source": [
    "(n_xz,m)=Xtestzz.shape\n",
    "   \n",
    "n_yz=y_testzz.shape[0]\n",
    "\n",
    "X,Y=create_placeholders(n_xz,n_yz)\n",
    "ss=tf.Session()\n",
    "q=forwardProp(X,pm)\n",
    "ans=q\n"
   ]
  },
  {
   "cell_type": "code",
   "execution_count": 41,
   "metadata": {
    "collapsed": true
   },
   "outputs": [],
   "source": [
    "correct_prediction = tf.equal(tf.argmax(ans), tf.argmax(y_testzz))\n",
    "accuracy = tf.reduce_mean(tf.cast(correct_prediction, \"float\"))"
   ]
  },
  {
   "cell_type": "code",
   "execution_count": 42,
   "metadata": {},
   "outputs": [
    {
     "name": "stdout",
     "output_type": "stream",
     "text": [
      "0.9211\n"
     ]
    }
   ],
   "source": [
    "print(ss.run(accuracy,feed_dict={X:Xtestzz,Y:y_testzz}))"
   ]
  },
  {
   "cell_type": "code",
   "execution_count": null,
   "metadata": {
    "collapsed": true
   },
   "outputs": [],
   "source": []
  }
 ],
 "metadata": {
  "kernelspec": {
   "display_name": "Python 3",
   "language": "python",
   "name": "python3"
  },
  "language_info": {
   "codemirror_mode": {
    "name": "ipython",
    "version": 3
   },
   "file_extension": ".py",
   "mimetype": "text/x-python",
   "name": "python",
   "nbconvert_exporter": "python",
   "pygments_lexer": "ipython3",
   "version": "3.6.3"
  }
 },
 "nbformat": 4,
 "nbformat_minor": 2
}
